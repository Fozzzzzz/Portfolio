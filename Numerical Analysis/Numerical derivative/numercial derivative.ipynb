{
 "cells": [
  {
   "cell_type": "code",
   "execution_count": 82,
   "metadata": {},
   "outputs": [
    {
     "name": "stdout",
     "output_type": "stream",
     "text": [
      "Populating the interactive namespace from numpy and matplotlib\n"
     ]
    }
   ],
   "source": [
    "%pylab inline"
   ]
  },
  {
   "cell_type": "markdown",
   "metadata": {},
   "source": [
    "# Forward Method"
   ]
  },
  {
   "cell_type": "code",
   "execution_count": 85,
   "metadata": {},
   "outputs": [],
   "source": [
    "def f(x):\n",
    "    return (sin(x))"
   ]
  },
  {
   "cell_type": "code",
   "execution_count": 86,
   "metadata": {},
   "outputs": [],
   "source": [
    "def df(x):\n",
    "    return (cos(x))"
   ]
  },
  {
   "cell_type": "code",
   "execution_count": 87,
   "metadata": {},
   "outputs": [],
   "source": [
    "def d1f(f,x,h):\n",
    "    return (f(x+h)-f(x))/h"
   ]
  },
  {
   "cell_type": "code",
   "execution_count": 88,
   "metadata": {},
   "outputs": [
    {
     "data": {
      "text/plain": [
       "0.15425144988758405"
      ]
     },
     "execution_count": 88,
     "metadata": {},
     "output_type": "execute_result"
    }
   ],
   "source": [
    "df(30)"
   ]
  },
  {
   "cell_type": "code",
   "execution_count": 89,
   "metadata": {},
   "outputs": [
    {
     "data": {
      "text/plain": [
       "0.15425146715486449"
      ]
     },
     "execution_count": 89,
     "metadata": {},
     "output_type": "execute_result"
    }
   ],
   "source": [
    "d1f(f,30,10**-8)"
   ]
  },
  {
   "cell_type": "code",
   "execution_count": 93,
   "metadata": {},
   "outputs": [
    {
     "name": "stdout",
     "output_type": "stream",
     "text": [
      "-3 5.837409000619687e-09\n",
      "-2 8.438832133084162e-09\n",
      "-1 8.132345019618015e-09\n",
      "0 0.0\n",
      "1 -2.9698852266335507e-09\n",
      "2 -2.6633981131674034e-09\n"
     ]
    }
   ],
   "source": [
    "for x in range(-3,3,1):\n",
    "    print(x,d1f(f,x,10**-8)-df(x))"
   ]
  },
  {
   "cell_type": "markdown",
   "metadata": {},
   "source": [
    "# Central Method\n",
    "定義D2c(f,x,h)去近似f'(x), f''(x)"
   ]
  },
  {
   "cell_type": "code",
   "execution_count": 20,
   "metadata": {},
   "outputs": [],
   "source": [
    "##二次微分真解\n",
    "def df2(x):\n",
    "    return (-sin(x))"
   ]
  },
  {
   "cell_type": "code",
   "execution_count": 12,
   "metadata": {},
   "outputs": [],
   "source": [
    "##central method近似一階微分\n",
    "def d1c(f,x,h):\n",
    "    return (f(x+h)-f(x-h))/(2*h)"
   ]
  },
  {
   "cell_type": "code",
   "execution_count": 22,
   "metadata": {},
   "outputs": [],
   "source": [
    "##central method近似二階微分\n",
    "def d2c(f,x,h):\n",
    "    return (f(x+h)-2*f(x)+f(x-h))/(h**2)"
   ]
  },
  {
   "cell_type": "code",
   "execution_count": 16,
   "metadata": {},
   "outputs": [
    {
     "name": "stdout",
     "output_type": "stream",
     "text": [
      "-3 5.837409000619687e-09\n",
      "-2 2.8877170099583793e-09\n",
      "-1 2.581229896492232e-09\n",
      "0 0.0\n",
      "1 2.581229896492232e-09\n",
      "2 2.8877170099583793e-09\n"
     ]
    }
   ],
   "source": [
    "for x in range(-3,3,1):\n",
    "    print(x,d1c(f,x,10**-8)-df(x))"
   ]
  },
  {
   "cell_type": "code",
   "execution_count": 23,
   "metadata": {},
   "outputs": [
    {
     "name": "stdout",
     "output_type": "stream",
     "text": [
      "-3 -7.13415854169952e-10\n",
      "-2 1.052023113068401e-08\n",
      "-1 -3.025119488242467e-09\n",
      "0 0.0\n",
      "1 3.025119488242467e-09\n",
      "2 -1.052023113068401e-08\n"
     ]
    }
   ],
   "source": [
    "for x in range(-3,3,1):\n",
    "    print(x,d2c(f,x,10**-4)-df2(x))"
   ]
  },
  {
   "cell_type": "markdown",
   "metadata": {},
   "source": [
    "# Exercise\n",
    "利用Backward Method 去近似 f(x)=x**2-8x+1 的一個導數\n",
    "1. 求出在區間[-10,10]以1為格點，print出他們的誤差\n",
    "2. 畫出1階導數，及利用Backward Method求出的一階導數在[-10,10]的圖，觀察兩者差距"
   ]
  },
  {
   "cell_type": "code",
   "execution_count": 24,
   "metadata": {},
   "outputs": [],
   "source": [
    "def f2(x):\n",
    "    return x**2-8*x+1"
   ]
  },
  {
   "cell_type": "code",
   "execution_count": 25,
   "metadata": {},
   "outputs": [],
   "source": [
    "def df2(x):\n",
    "    return 2*x-8"
   ]
  },
  {
   "cell_type": "code",
   "execution_count": 26,
   "metadata": {},
   "outputs": [],
   "source": [
    "def d1b(f,x,h):\n",
    "    return (f(x)-f(x-h))/h"
   ]
  },
  {
   "cell_type": "code",
   "execution_count": 54,
   "metadata": {},
   "outputs": [
    {
     "name": "stdout",
     "output_type": "stream",
     "text": [
      "-10 -2.3167303879745305e-06\n",
      "-9 -3.57233511749655e-06\n",
      "-8 -1.985768903978169e-06\n",
      "-7 -3.9920269045978785e-07\n",
      "-6 -2.337219484616071e-07\n",
      "-5 -6.824120646342635e-08\n",
      "-4 9.72395355347544e-08\n",
      "-3 2.6272027753293514e-07\n",
      "-2 7.29296516510658e-08\n",
      "-1 6.07747097092215e-08\n",
      "0 -1.7993613710132195e-08\n",
      "1 -5.2353016144479625e-08\n",
      "2 2.43098838836886e-08\n",
      "3 1.21549419418443e-08\n",
      "4 0.0\n",
      "5 -1.8979062588186935e-07\n",
      "6 -3.795812517637387e-07\n",
      "7 -2.1410050976555794e-07\n",
      "8 -4.86197677673772e-08\n",
      "9 8.274037099909037e-07\n",
      "10 9.928844519890845e-07\n"
     ]
    }
   ],
   "source": [
    "for x in range(-10,11,1):\n",
    "    print(x,d1b(f2,x,10**-8)-df2(x))"
   ]
  },
  {
   "cell_type": "code",
   "execution_count": 62,
   "metadata": {},
   "outputs": [],
   "source": [
    "l = []\n",
    "df2l= []\n",
    "d1bl = []\n",
    "for x in range(-10,11,1):\n",
    "    l.append(x)\n",
    "    df2l.append(df2(x))\n",
    "    d1bl.append(d1b(f2,x,10**-8))"
   ]
  },
  {
   "cell_type": "code",
   "execution_count": 60,
   "metadata": {},
   "outputs": [
    {
     "data": {
      "text/plain": [
       "[<matplotlib.lines.Line2D at 0x2795d0ab988>]"
      ]
     },
     "execution_count": 60,
     "metadata": {},
     "output_type": "execute_result"
    },
    {
     "data": {
      "image/png": "[encoded data removed]",
      "text/plain": [
       "<Figure size 432x288 with 1 Axes>"
      ]
     },
     "metadata": {
      "needs_background": "light"
     },
     "output_type": "display_data"
    }
   ],
   "source": [
    "plot(l,df2l,'r')\n",
    "plot(l,d1bl,'b')"
   ]
  },
  {
   "cell_type": "code",
   "execution_count": 63,
   "metadata": {},
   "outputs": [
    {
     "data": {
      "text/plain": [
       "[<matplotlib.lines.Line2D at 0x2795d0fad88>]"
      ]
     },
     "execution_count": 63,
     "metadata": {},
     "output_type": "execute_result"
    },
    {
     "data": {
      "image/png": "[encoded data removed]",
      "text/plain": [
       "<Figure size 432x288 with 1 Axes>"
      ]
     },
     "metadata": {
      "needs_background": "light"
     },
     "output_type": "display_data"
    }
   ],
   "source": [
    "plot(l,m)"
   ]
  },
  {
   "cell_type": "code",
   "execution_count": 64,
   "metadata": {},
   "outputs": [
    {
     "data": {
      "text/plain": [
       "[-10, -9, -8, -7, -6, -5, -4, -3, -2, -1, 0, 1, 2, 3, 4, 5, 6, 7, 8, 9, 10]"
      ]
     },
     "execution_count": 64,
     "metadata": {},
     "output_type": "execute_result"
    }
   ],
   "source": [
    "l"
   ]
  },
  {
   "cell_type": "code",
   "execution_count": 66,
   "metadata": {},
   "outputs": [
    {
     "data": {
      "text/plain": [
       "[-28,\n",
       " -26,\n",
       " -24,\n",
       " -22,\n",
       " -20,\n",
       " -18,\n",
       " -16,\n",
       " -14,\n",
       " -12,\n",
       " -10,\n",
       " -8,\n",
       " -6,\n",
       " -4,\n",
       " -2,\n",
       " 0,\n",
       " 2,\n",
       " 4,\n",
       " 6,\n",
       " 8,\n",
       " 10,\n",
       " 12]"
      ]
     },
     "execution_count": 66,
     "metadata": {},
     "output_type": "execute_result"
    }
   ],
   "source": [
    "df2l"
   ]
  },
  {
   "cell_type": "markdown",
   "metadata": {},
   "source": [
    "請同學利用不同組合係數（A,B,C,D,E,F）的 $f(x) = A sin(x+B) +C e^x + Dx^2 + E x + F$ 任選32 組，在定義域$[1,2]$ 間，平均取樣100個點 $x$ 來檢查利用數值微分 Forward method 分析最佳的 step size 公式，使用遞迴解所計算的最好的step size $h^*$ 所得到的平均數值誤差是否比 $h^{-8}$ 更小。"
   ]
  },
  {
   "cell_type": "code",
   "execution_count": 70,
   "metadata": {},
   "outputs": [],
   "source": [
    "def f(x,L):\n",
    "    return L[0]*sin(x+L[1])+L[2]*exp(x)+L[3]*(x**2)+L[4]*x+L[5]\n",
    "def df(x,L):\n",
    "    return L[0]*cos(x)+L[2]*exp(x)+2*L[3]*x+L[4]"
   ]
  },
  {
   "cell_type": "code",
   "execution_count": 71,
   "metadata": {},
   "outputs": [],
   "source": [
    "def d1f(f,x,h,L):\n",
    "    return (f(x+h,L)-f(x,L))/h"
   ]
  },
  {
   "cell_type": "code",
   "execution_count": 73,
   "metadata": {},
   "outputs": [
    {
     "name": "stdout",
     "output_type": "stream",
     "text": [
      "1.5294941009536132\n",
      "1.5223372613867667\n",
      "1.5150249735697656\n",
      "1.5075579827212344\n",
      "1.499937049821476\n",
      "1.492162951620493\n",
      "1.484236480405638\n",
      "1.4761584440264457\n",
      "1.4679296657149123\n",
      "1.459550984234145\n",
      "1.4510232535029743\n",
      "1.4423473426912352\n",
      "1.4335241360398605\n",
      "1.4245545328321896\n",
      "1.4154394472679002\n",
      "1.4061798083817507\n",
      "1.3967765601139277\n",
      "1.3872306607148381\n",
      "1.3775430831898845\n",
      "1.3677148149013192\n",
      "1.3577468577839618\n",
      "1.3476402276471653\n",
      "1.3373959548014014\n",
      "1.3270150833450352\n",
      "1.3164986712785804\n",
      "1.3058477907359318\n",
      "1.2950635271248814\n",
      "1.2841469798770646\n",
      "1.2730992615033543\n",
      "1.2619214981879274\n",
      "1.2506148293275672\n",
      "1.2391804072597523\n",
      "1.227619397641618\n",
      "1.215932978845565\n",
      "1.204122341970404\n",
      "1.1921886909708093\n",
      "1.1801332421591155\n",
      "1.167957224394062\n",
      "1.1556618788554154\n",
      "1.143248458582029\n",
      "1.1307182291237012\n",
      "1.1180724675002267\n",
      "1.105312462807337\n",
      "1.092439515485438\n",
      "1.0794549378802358\n",
      "1.0663600533243276\n",
      "1.053156196724153\n",
      "1.0398447138813296\n",
      "1.0264269615380996\n",
      "1.0129043074363935\n",
      "0.9992781297512607\n",
      "0.9855498176040918\n",
      "0.971720770168865\n",
      "0.9577923969295483\n",
      "0.9437661176677494\n",
      "0.9296433621096725\n",
      "0.9154255695878106\n",
      "0.9011141892149723\n",
      "0.8867106797891893\n",
      "0.8722165094295633\n",
      "0.8576331555118344\n",
      "0.8429621042642452\n",
      "0.8282048510185334\n",
      "0.8133628999796443\n",
      "0.7984377639402922\n",
      "0.7834309639408445\n",
      "0.7683440296561628\n",
      "0.753178498662173\n",
      "0.7379359167139796\n",
      "0.7226178373304393\n",
      "0.707225821751166\n",
      "0.6917614385555311\n",
      "0.6762262641519641\n",
      "0.660621881579516\n",
      "0.6449498813880297\n",
      "0.6292118606888977\n",
      "0.6134094235741543\n",
      "0.5975441803461905\n",
      "0.5816177480450335\n",
      "0.5656317499286843\n",
      "0.5495878149726181\n",
      "0.5334875782411004\n",
      "0.5173326809228058\n",
      "0.5011247687517795\n",
      "0.4848654940011059\n",
      "0.4685565134464582\n",
      "0.4521994889791259\n",
      "0.43579608774203393\n",
      "0.41934798129182127\n",
      "0.40285684577668235\n",
      "0.38632436156684946\n",
      "0.3697522136881446\n",
      "0.35314209050079626\n",
      "0.3364956850290781\n",
      "0.3198146933998487\n",
      "0.30310081529289334\n",
      "0.2863557538453705\n",
      "0.2695812155080404\n",
      "0.25277890949807613\n",
      "0.23595054755944744\n"
     ]
    }
   ],
   "source": [
    "L = [1,2,3,4,5,6]\n",
    "for x in linspace(1,2,100):\n",
    "    print(df(x,L)-d1f(f,x,10**-4,L))"
   ]
  },
  {
   "cell_type": "code",
   "execution_count": null,
   "metadata": {},
   "outputs": [],
   "source": []
  }
 ],
 "metadata": {
  "kernelspec": {
   "display_name": "Python 3",
   "language": "python",
   "name": "python3"
  },
  "language_info": {
   "codemirror_mode": {
    "name": "ipython",
    "version": 3
   },
   "file_extension": ".py",
   "mimetype": "text/x-python",
   "name": "python",
   "nbconvert_exporter": "python",
   "pygments_lexer": "ipython3",
   "version": "3.7.6"
  }
 },
 "nbformat": 4,
 "nbformat_minor": 4
}
