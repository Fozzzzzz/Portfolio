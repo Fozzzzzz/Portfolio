{
 "cells": [
  {
   "cell_type": "code",
   "execution_count": 1,
   "metadata": {},
   "outputs": [
    {
     "name": "stdout",
     "output_type": "stream",
     "text": [
      "Populating the interactive namespace from numpy and matplotlib\n"
     ]
    }
   ],
   "source": [
    "%pylab inline"
   ]
  },
  {
   "cell_type": "code",
   "execution_count": 2,
   "metadata": {},
   "outputs": [],
   "source": [
    "def simpson(f,a,b,N):\n",
    "    '''\n",
    "    Approximate the definite integral of f(x) from a to b by the Simpson's rule,\n",
    "    using N subintervals, N must be even integral.\n",
    "    '''\n",
    "    if N%2 == 0:\n",
    "        n = N\n",
    "    else:\n",
    "        n = N + 1\n",
    "    h = (b-a)/n\n",
    "    S = f(a)\n",
    "    for i in range(1,n,2):\n",
    "        x = a+h*i\n",
    "        S += 4*f(x)\n",
    "    for i in range(2,n-1,2):\n",
    "        x = a+h*i\n",
    "        S += 2*f(x)\n",
    "    S += f(b)\n",
    "    S = h*S/3\n",
    "    \n",
    "    return S"
   ]
  },
  {
   "cell_type": "code",
   "execution_count": 15,
   "metadata": {},
   "outputs": [],
   "source": [
    "def recursive_simpson(f,a,b,S,tol):\n",
    "    '''\n",
    "    Recursive implement of adaptive Simspon's rule\n",
    "    f:function of f(x)\n",
    "    [a,b] : the interval of integration\n",
    "    S : previous\n",
    "    tol : the tolerance\n",
    "    \n",
    "    This is a subfunction of adapt_simpson\n",
    "    '''\n",
    "    c = (a+b)/2\n",
    "    SL = simpson(f,a,c,1)\n",
    "    SR = simpson(f,c,b,1)\n",
    "    Sn = SL + SR\n",
    "    err = abs(Sn-S)/15\n",
    "    if err<tol:\n",
    "        S = Sn\n",
    "        nodes = [a,c,b]\n",
    "        return S, err, nodes\n",
    "    else:\n",
    "        SL, err1, nodes1 = recursive_simpson(f,a,c,SL,tol/2)\n",
    "        SR, err2, nodes2 = recursive_simpson(f,c,b,SR,tol/2)\n",
    "        S=SL+SR\n",
    "        err = err1 + err2\n",
    "        nodes = nodes1[0:-1]\n",
    "        nodes.extend(nodes2)\n",
    "    \n",
    "    return SL+SR,err,nodes"
   ]
  },
  {
   "cell_type": "code",
   "execution_count": 30,
   "metadata": {},
   "outputs": [],
   "source": [
    "def adapt_simpson(f,a,b,tol=10**-9):\n",
    "    S = simpson(f,a,b,1)\n",
    "    S, err, nodes = recursive_simpson(f,a,b,S,tol)\n",
    "    return S, err, nodes"
   ]
  },
  {
   "cell_type": "code",
   "execution_count": 31,
   "metadata": {},
   "outputs": [],
   "source": [
    "def f(x):\n",
    "    return 400*x*(1-x)*exp(-2*x)"
   ]
  },
  {
   "cell_type": "code",
   "execution_count": 32,
   "metadata": {},
   "outputs": [],
   "source": [
    "S, err, nodes = adapt_simpson(lambda x:f(x), 0, 2*np.pi, 10**-1)"
   ]
  },
  {
   "cell_type": "code",
   "execution_count": 33,
   "metadata": {},
   "outputs": [
    {
     "name": "stdout",
     "output_type": "stream",
     "text": [
      "0.02751150106175304 0.033450829934616136\n"
     ]
    }
   ],
   "source": [
    "print(S, err)"
   ]
  },
  {
   "cell_type": "code",
   "execution_count": 27,
   "metadata": {},
   "outputs": [
    {
     "data": {
      "text/plain": [
       "11"
      ]
     },
     "execution_count": 27,
     "metadata": {},
     "output_type": "execute_result"
    }
   ],
   "source": [
    "len(nodes)"
   ]
  },
  {
   "cell_type": "code",
   "execution_count": 37,
   "metadata": {},
   "outputs": [
    {
     "data": {
      "text/plain": [
       "[<matplotlib.lines.Line2D at 0x2bf84ae3108>,\n",
       " <matplotlib.lines.Line2D at 0x2bf84297d48>]"
      ]
     },
     "execution_count": 37,
     "metadata": {},
     "output_type": "execute_result"
    },
    {
     "data": {
      "image/png": "[encoded data removed]",
      "text/plain": [
       "<Figure size 432x288 with 1 Axes>"
      ]
     },
     "metadata": {
      "needs_background": "light"
     },
     "output_type": "display_data"
    }
   ],
   "source": [
    "x = np.linspace(0,2*np.pi,200)\n",
    "y = f(x)\n",
    "x1 = np.array(nodes)\n",
    "y1 = np.zeros(len(x1))\n",
    "plot(x,y,'r',x1,y1,'b.')"
   ]
  },
  {
   "cell_type": "code",
   "execution_count": null,
   "metadata": {},
   "outputs": [],
   "source": []
  }
 ],
 "metadata": {
  "kernelspec": {
   "display_name": "Python 3",
   "language": "python",
   "name": "python3"
  },
  "language_info": {
   "codemirror_mode": {
    "name": "ipython",
    "version": 3
   },
   "file_extension": ".py",
   "mimetype": "text/x-python",
   "name": "python",
   "nbconvert_exporter": "python",
   "pygments_lexer": "ipython3",
   "version": "3.7.6"
  }
 },
 "nbformat": 4,
 "nbformat_minor": 4
}
