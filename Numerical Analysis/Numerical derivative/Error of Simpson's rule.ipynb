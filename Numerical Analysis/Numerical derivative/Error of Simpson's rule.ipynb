{
 "cells": [
  {
   "cell_type": "code",
   "execution_count": 1,
   "metadata": {},
   "outputs": [
    {
     "name": "stdout",
     "output_type": "stream",
     "text": [
      "Populating the interactive namespace from numpy and matplotlib\n"
     ]
    }
   ],
   "source": [
    "%pylab inline"
   ]
  },
  {
   "cell_type": "code",
   "execution_count": 9,
   "metadata": {},
   "outputs": [],
   "source": [
    "def Int_S(f,a,b,n):\n",
    "    if n%2!=0:\n",
    "        n+=1\n",
    "    h = (b-a)/n\n",
    "    x = linspace(a,b,n+1)\n",
    "    S = f(x[0])+f(x[-1])\n",
    "    S += sum(4*f(x[1:-1:2]))\n",
    "    S += sum(2*f(x[2:-1:2]))\n",
    "    return h*S/3"
   ]
  },
  {
   "cell_type": "code",
   "execution_count": 10,
   "metadata": {},
   "outputs": [],
   "source": [
    "def f(x):\n",
    "    return x**2+3*x-7"
   ]
  },
  {
   "cell_type": "code",
   "execution_count": 14,
   "metadata": {},
   "outputs": [
    {
     "name": "stdout",
     "output_type": "stream",
     "text": [
      "-22.666666666666668\n"
     ]
    }
   ],
   "source": [
    "y = Int_S(f,-2,2,100)\n",
    "print(y)"
   ]
  },
  {
   "cell_type": "code",
   "execution_count": 15,
   "metadata": {},
   "outputs": [],
   "source": [
    "def fun_mk(a,b,c):\n",
    "    return lambda x:a*x**4+b*sin(x)+c*exp(x)"
   ]
  },
  {
   "cell_type": "code",
   "execution_count": 6,
   "metadata": {},
   "outputs": [],
   "source": [
    "def True_Int(a,b,c):\n",
    "    return 2*a/5+c*(exp(1)-exp(-1))"
   ]
  },
  {
   "cell_type": "code",
   "execution_count": 7,
   "metadata": {},
   "outputs": [
    {
     "name": "stdout",
     "output_type": "stream",
     "text": [
      "3.9945036453896563\n",
      "3.8273611997740633\n",
      "3.8699033172057082\n",
      "inf\n",
      "3.902521642894581\n",
      "3.9654062125045764\n",
      "3.928504788821018\n",
      "4.075540112567799\n",
      "3.9917078352639157\n",
      "4.148629591517939\n",
      "inf\n",
      "inf\n",
      "3.781379134561363\n",
      "inf\n",
      "3.929396767521167\n",
      "3.6536024586689018\n",
      "4.166153001756882\n",
      "4.2260609003107135\n",
      "3.9408648380704574\n",
      "3.94165682046045\n",
      "3.832719273466809\n",
      "inf\n",
      "3.8274555572797624\n",
      "inf\n",
      "3.901110145053939\n",
      "3.874106281981205\n",
      "inf\n",
      "3.828318450234907\n",
      "3.593210267373295\n",
      "inf\n"
     ]
    },
    {
     "name": "stderr",
     "output_type": "stream",
     "text": [
      "C:\\Users\\user\\anaconda3\\lib\\site-packages\\ipykernel_launcher.py:16: RuntimeWarning: divide by zero encountered in double_scalars\n",
      "  app.launch_new_instance()\n"
     ]
    }
   ],
   "source": [
    "for i in range(30):\n",
    "    a = 10*randn()+3\n",
    "    b = 3*randn()+2\n",
    "    c = 0.2*randn()+1\n",
    "    \n",
    "    f = fun_mk(a,b,c)\n",
    "    R = list()\n",
    "    T = True_Int(a,b,c)\n",
    "    for j in range(10):\n",
    "        n = 32*2**j\n",
    "        N = Int_S(f,-1,1,n)\n",
    "        R.append(abs(T-N))\n",
    "    #print(R)    \n",
    "    M = list()\n",
    "    for j in range(9):\n",
    "        M.append(log2(R[j]/R[j+1]))\n",
    "    \n",
    "    print(mean(M))"
   ]
  },
  {
   "cell_type": "code",
   "execution_count": 8,
   "metadata": {},
   "outputs": [
    {
     "data": {
      "text/plain": [
       "3.0"
      ]
     },
     "execution_count": 8,
     "metadata": {},
     "output_type": "execute_result"
    }
   ],
   "source": [
    "log2(8)"
   ]
  },
  {
   "cell_type": "code",
   "execution_count": null,
   "metadata": {
    "collapsed": true
   },
   "outputs": [],
   "source": []
  }
 ],
 "metadata": {
  "kernelspec": {
   "display_name": "Python 3",
   "language": "python",
   "name": "python3"
  },
  "language_info": {
   "codemirror_mode": {
    "name": "ipython",
    "version": 3
   },
   "file_extension": ".py",
   "mimetype": "text/x-python",
   "name": "python",
   "nbconvert_exporter": "python",
   "pygments_lexer": "ipython3",
   "version": "3.7.6"
  }
 },
 "nbformat": 4,
 "nbformat_minor": 2
}
