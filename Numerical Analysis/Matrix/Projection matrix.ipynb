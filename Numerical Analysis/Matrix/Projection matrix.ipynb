{
 "cells": [
  {
   "cell_type": "code",
   "execution_count": 1,
   "metadata": {},
   "outputs": [
    {
     "name": "stdout",
     "output_type": "stream",
     "text": [
      "Populating the interactive namespace from numpy and matplotlib\n"
     ]
    }
   ],
   "source": [
    "%pylab inline"
   ]
  },
  {
   "cell_type": "code",
   "execution_count": 2,
   "metadata": {},
   "outputs": [
    {
     "name": "stdout",
     "output_type": "stream",
     "text": [
      "[[-0.35449364 -0.05790339 -1.82817724]\n",
      " [ 0.04360973 -1.19004485 -0.73220357]\n",
      " [-1.68875374 -0.14648067  0.29754699]\n",
      " [-0.16793053  0.59024758  0.05859949]]\n"
     ]
    }
   ],
   "source": [
    "A = mat(randn(4,3))\n",
    "print(A)"
   ]
  },
  {
   "cell_type": "code",
   "execution_count": 3,
   "metadata": {},
   "outputs": [
    {
     "name": "stdout",
     "output_type": "stream",
     "text": [
      "[[ 3.0076574   0.11687804  0.10382176]\n",
      " [ 0.11687804  1.78940834  0.96821607]\n",
      " [ 0.10382176  0.96821607  3.97032222]]\n"
     ]
    }
   ],
   "source": [
    "B =A.T*A\n",
    "print(B)"
   ]
  },
  {
   "cell_type": "code",
   "execution_count": 4,
   "metadata": {},
   "outputs": [
    {
     "name": "stdout",
     "output_type": "stream",
     "text": [
      "[ 4.35242677  2.9966724   1.41828878]\n"
     ]
    }
   ],
   "source": [
    "e,g = eig(B)\n",
    "print(e)"
   ]
  },
  {
   "cell_type": "code",
   "execution_count": 5,
   "metadata": {},
   "outputs": [
    {
     "name": "stdout",
     "output_type": "stream",
     "text": [
      "[[  3.0076574    8.81532867   0.10382176]\n",
      " [  8.81532867  41.70434431  -7.62917915]\n",
      " [  0.10382176  -7.62917915   3.97032222]]\n"
     ]
    }
   ],
   "source": [
    "A[:,1] = 3*A[:,0]-2*A[:,2]\n",
    "B1 = A.T*A\n",
    "print(B1)"
   ]
  },
  {
   "cell_type": "code",
   "execution_count": 6,
   "metadata": {},
   "outputs": [
    {
     "name": "stdout",
     "output_type": "stream",
     "text": [
      "[  4.49679384e+01   1.59539041e-16   3.71438555e+00]\n"
     ]
    }
   ],
   "source": [
    "e1,g1 = eig(B1)\n",
    "print(e1)"
   ]
  },
  {
   "cell_type": "code",
   "execution_count": 7,
   "metadata": {
    "collapsed": true
   },
   "outputs": [],
   "source": [
    "A = mat(randn(4,8))\n",
    "B = A.T*A\n",
    "e2,g2 = eig(B)"
   ]
  },
  {
   "cell_type": "code",
   "execution_count": 8,
   "metadata": {},
   "outputs": [
    {
     "name": "stdout",
     "output_type": "stream",
     "text": [
      "[  0.00000000e+00   1.95959630e+00   5.21215405e+00   2.01988165e+01\n",
      "   1.57161834e+01   2.71433135e-16  -6.26234813e-16  -2.63233450e-16]\n"
     ]
    }
   ],
   "source": [
    "print(e2)"
   ]
  },
  {
   "cell_type": "code",
   "execution_count": 9,
   "metadata": {
    "collapsed": true
   },
   "outputs": [],
   "source": [
    "A = mat(randn(4,3))\n",
    "B = mat(randn(3,2))\n",
    "C = A*B"
   ]
  },
  {
   "cell_type": "code",
   "execution_count": 10,
   "metadata": {},
   "outputs": [
    {
     "name": "stdout",
     "output_type": "stream",
     "text": [
      "[[-1.32913135  1.08216903]\n",
      " [-0.01316984 -2.71105774]\n",
      " [-0.0595968   0.05653919]\n",
      " [ 0.056207   -1.59525036]]\n"
     ]
    }
   ],
   "source": [
    "print(C)"
   ]
  },
  {
   "cell_type": "code",
   "execution_count": 11,
   "metadata": {
    "collapsed": true
   },
   "outputs": [],
   "source": [
    "A = mat(randn(4,3))\n",
    "A[:,1] = 2*A[:,0]+3*A[:,2]\n",
    "P = A*inv(A.T*A)*A.T"
   ]
  },
  {
   "cell_type": "code",
   "execution_count": 12,
   "metadata": {},
   "outputs": [
    {
     "name": "stdout",
     "output_type": "stream",
     "text": [
      "[[ 1.23423786 -0.88337661  0.13952443  1.50266197]\n",
      " [-4.24934859  3.56628806 -0.50306039 -5.22433131]\n",
      " [ 0.22629786 -0.13519767  0.02442456  0.27292142]\n",
      " [ 2.34086516 -0.62834923  0.21935715  2.7485735 ]]\n"
     ]
    }
   ],
   "source": [
    "print(P)"
   ]
  },
  {
   "cell_type": "code",
   "execution_count": 15,
   "metadata": {},
   "outputs": [
    {
     "name": "stdout",
     "output_type": "stream",
     "text": [
      "[[-0.2716036  -4.904665   -1.45381927]\n",
      " [ 0.86011493  3.09409963  0.45795659]\n",
      " [-0.05948328 -0.53645086 -0.13916143]\n",
      " [-0.39513364 -5.93102988 -1.71358754]]\n"
     ]
    }
   ],
   "source": [
    "A1 = A[:,0:2:]\n",
    "print(A)"
   ]
  },
  {
   "cell_type": "code",
   "execution_count": 16,
   "metadata": {},
   "outputs": [
    {
     "name": "stdout",
     "output_type": "stream",
     "text": [
      "[[-0.2716036  -4.904665  ]\n",
      " [ 0.86011493  3.09409963]\n",
      " [-0.05948328 -0.53645086]\n",
      " [-0.39513364 -5.93102988]]\n"
     ]
    }
   ],
   "source": [
    "print(A1)"
   ]
  },
  {
   "cell_type": "code",
   "execution_count": 17,
   "metadata": {},
   "outputs": [
    {
     "name": "stdout",
     "output_type": "stream",
     "text": [
      "[[ 0.43251867  0.04906962  0.03338991  0.49185725]\n",
      " [ 0.04906962  0.99444721 -0.03896226 -0.03995083]\n",
      " [ 0.03338991 -0.03896226  0.00442581  0.04211026]\n",
      " [ 0.49185725 -0.03995083  0.04211026  0.56860831]]\n"
     ]
    }
   ],
   "source": [
    "P1 = A1*inv(A1.T*A1)*A1.T\n",
    "print(P1)"
   ]
  },
  {
   "cell_type": "code",
   "execution_count": 23,
   "metadata": {},
   "outputs": [
    {
     "name": "stdout",
     "output_type": "stream",
     "text": [
      "[[ 3.55495083 -4.96075756  3.3814329   4.54890471]\n",
      " [ 1.23726674  0.3304299   0.4728539   9.53475827]\n",
      " [-1.00036305  8.83246008  3.4500959  -5.55509366]\n",
      " [ 1.82493199 -0.28887296 -3.0773847  -4.56581667]]\n"
     ]
    }
   ],
   "source": [
    "A = mat(randn(4,6))\n",
    "P = A*inv(A.T*A)*A.T\n",
    "print(P)"
   ]
  },
  {
   "cell_type": "code",
   "execution_count": 24,
   "metadata": {},
   "outputs": [
    {
     "name": "stdout",
     "output_type": "stream",
     "text": [
      "[[  1.00000000e+00   2.22044605e-16  -3.33066907e-16   2.22044605e-16]\n",
      " [  8.32667268e-17   1.00000000e+00  -5.55111512e-17   1.38777878e-16]\n",
      " [  1.38777878e-16   2.77555756e-16   1.00000000e+00   0.00000000e+00]\n",
      " [  1.11022302e-16  -2.77555756e-16  -1.59594560e-16   1.00000000e+00]]\n"
     ]
    }
   ],
   "source": [
    "A1 = A[:,0:4]\n",
    "P1 = A1*inv(A1.T*A1)*A1.T\n",
    "print(P1)"
   ]
  }
 ],
 "metadata": {
  "kernelspec": {
   "display_name": "Python 3",
   "language": "python",
   "name": "python3"
  },
  "language_info": {
   "codemirror_mode": {
    "name": "ipython",
    "version": 3
   },
   "file_extension": ".py",
   "mimetype": "text/x-python",
   "name": "python",
   "nbconvert_exporter": "python",
   "pygments_lexer": "ipython3",
   "version": "3.7.6"
  }
 },
 "nbformat": 4,
 "nbformat_minor": 2
}
