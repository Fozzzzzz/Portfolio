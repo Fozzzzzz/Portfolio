{
 "cells": [
  {
   "cell_type": "code",
   "execution_count": 1,
   "metadata": {},
   "outputs": [
    {
     "name": "stdout",
     "output_type": "stream",
     "text": [
      "Populating the interactive namespace from numpy and matplotlib\n"
     ]
    }
   ],
   "source": [
    "%pylab inline"
   ]
  },
  {
   "cell_type": "code",
   "execution_count": 2,
   "metadata": {},
   "outputs": [],
   "source": [
    "from scipy.linalg import lu"
   ]
  },
  {
   "cell_type": "code",
   "execution_count": 37,
   "metadata": {},
   "outputs": [],
   "source": [
    "def forward(L, b):\n",
    "    n = L.shape[0]\n",
    "    y = mat(zeros([n,1]))\n",
    "    y[0] = float(b[0])/float(L[0,0])\n",
    "    for i in range(len(b)):\n",
    "        tmp = float(b[i])\n",
    "        for j in range(i):\n",
    "            tmp -= float(L[i,j]*y[j])\n",
    "        y[i] = tmp/float(L[i,i])\n",
    "    return y"
   ]
  },
  {
   "cell_type": "code",
   "execution_count": 119,
   "metadata": {},
   "outputs": [],
   "source": [
    "L = mat(([1,0,0],[2,1,0],[4,5,1]))\n",
    "y = mat(([4],[5],[6]))\n",
    "b = L*y"
   ]
  },
  {
   "cell_type": "code",
   "execution_count": 120,
   "metadata": {},
   "outputs": [
    {
     "data": {
      "text/plain": [
       "matrix([[4.],\n",
       "        [5.],\n",
       "        [6.]])"
      ]
     },
     "execution_count": 120,
     "metadata": {},
     "output_type": "execute_result"
    }
   ],
   "source": [
    "forward(L,b)"
   ]
  },
  {
   "cell_type": "code",
   "execution_count": 227,
   "metadata": {},
   "outputs": [],
   "source": [
    "def backward(U, b):\n",
    "    n = U.shape[0]\n",
    "    y = mat(zeros([n,1]))\n",
    "    y[n-1] = float(b[n-1])/float(U[n-1,n-1])\n",
    "    for i in range(len(b)-1,-1,-1):\n",
    "        tmp = float(b[i])\n",
    "        for j in range(len(b)-1,i,-1):\n",
    "            tmp -= float(U[i,j]*y[j])\n",
    "        y[i] = tmp/float(U[i,i])\n",
    "    return y"
   ]
  },
  {
   "cell_type": "code",
   "execution_count": 228,
   "metadata": {},
   "outputs": [],
   "source": [
    "U = mat(([1,2,3],[0,4,5],[0,0,6]))\n",
    "y = mat(([7],[8],[9]))\n",
    "b = U*y"
   ]
  },
  {
   "cell_type": "code",
   "execution_count": 229,
   "metadata": {},
   "outputs": [
    {
     "data": {
      "text/plain": [
       "matrix([[7.],\n",
       "        [8.],\n",
       "        [9.]])"
      ]
     },
     "execution_count": 229,
     "metadata": {},
     "output_type": "execute_result"
    }
   ],
   "source": [
    "backward(U, b)"
   ]
  },
  {
   "cell_type": "code",
   "execution_count": 230,
   "metadata": {},
   "outputs": [],
   "source": [
    "U1 = mat(([2,3,4,5],[0,1,2,3],[0,0,4,5],[0,0,0,6]))\n",
    "y1 = mat(([6],[7],[8],[9]))\n",
    "b1 = U1*y1"
   ]
  },
  {
   "cell_type": "code",
   "execution_count": 231,
   "metadata": {},
   "outputs": [
    {
     "data": {
      "text/plain": [
       "matrix([[6.],\n",
       "        [7.],\n",
       "        [8.],\n",
       "        [9.]])"
      ]
     },
     "execution_count": 231,
     "metadata": {},
     "output_type": "execute_result"
    }
   ],
   "source": [
    "backward(U1, b1)"
   ]
  },
  {
   "cell_type": "code",
   "execution_count": 232,
   "metadata": {},
   "outputs": [],
   "source": [
    "def backward2(U, b):\n",
    "    n = U.shape[0]\n",
    "    y = mat(zeros([n,1]))\n",
    "    y[n-1] = float(b[n-1])/float(U[n-1,n-1])\n",
    "    for i in range(1,len(b)+1):\n",
    "        tmp = float(b[-i])\n",
    "        for j in range(i):\n",
    "            tmp -= float(U[-i,-j]*y[-j])\n",
    "        y[-i] = tmp/float(U[-i,-i])\n",
    "    return y"
   ]
  },
  {
   "cell_type": "code",
   "execution_count": 233,
   "metadata": {},
   "outputs": [
    {
     "data": {
      "text/plain": [
       "matrix([[6.],\n",
       "        [7.],\n",
       "        [8.],\n",
       "        [9.]])"
      ]
     },
     "execution_count": 233,
     "metadata": {},
     "output_type": "execute_result"
    }
   ],
   "source": [
    "backward2(U1, b1)"
   ]
  },
  {
   "cell_type": "code",
   "execution_count": 251,
   "metadata": {},
   "outputs": [],
   "source": [
    "A = mat(10*rand(4,4))\n",
    "b = mat(10*rand(4,1))\n",
    "P,L,U = lu(A)\n",
    "P = mat(P)\n",
    "L = mat(L)\n",
    "U = mat(U)"
   ]
  },
  {
   "cell_type": "code",
   "execution_count": 252,
   "metadata": {},
   "outputs": [
    {
     "data": {
      "text/plain": [
       "matrix([[1.65260986],\n",
       "        [1.88883496],\n",
       "        [3.86468089],\n",
       "        [0.92176451]])"
      ]
     },
     "execution_count": 252,
     "metadata": {},
     "output_type": "execute_result"
    }
   ],
   "source": [
    "b0 = forward(L, b)\n",
    "b0"
   ]
  },
  {
   "cell_type": "code",
   "execution_count": 253,
   "metadata": {},
   "outputs": [
    {
     "data": {
      "text/plain": [
       "matrix([[-0.47145026],\n",
       "        [-0.90969739],\n",
       "        [ 1.08333391],\n",
       "        [ 0.24107597]])"
      ]
     },
     "execution_count": 253,
     "metadata": {},
     "output_type": "execute_result"
    }
   ],
   "source": [
    "x = backward2(U, b0)\n",
    "x"
   ]
  },
  {
   "cell_type": "code",
   "execution_count": 254,
   "metadata": {},
   "outputs": [
    {
     "data": {
      "text/plain": [
       "matrix([[-0.47145026],\n",
       "        [-0.90969739],\n",
       "        [ 1.08333391],\n",
       "        [ 0.24107597]])"
      ]
     },
     "execution_count": 254,
     "metadata": {},
     "output_type": "execute_result"
    }
   ],
   "source": [
    "x0 = backward2(U, b0)\n",
    "x0"
   ]
  },
  {
   "cell_type": "code",
   "execution_count": 255,
   "metadata": {},
   "outputs": [
    {
     "data": {
      "text/plain": [
       "matrix([[2.06425286],\n",
       "        [1.65260986],\n",
       "        [0.0048547 ],\n",
       "        [4.80882474]])"
      ]
     },
     "execution_count": 255,
     "metadata": {},
     "output_type": "execute_result"
    }
   ],
   "source": [
    "A*x"
   ]
  },
  {
   "cell_type": "code",
   "execution_count": 256,
   "metadata": {},
   "outputs": [
    {
     "data": {
      "text/plain": [
       "matrix([[2.06425286],\n",
       "        [1.65260986],\n",
       "        [0.0048547 ],\n",
       "        [4.80882474]])"
      ]
     },
     "execution_count": 256,
     "metadata": {},
     "output_type": "execute_result"
    }
   ],
   "source": [
    "A*x0"
   ]
  },
  {
   "cell_type": "code",
   "execution_count": 257,
   "metadata": {},
   "outputs": [
    {
     "data": {
      "text/plain": [
       "matrix([[2.06425286],\n",
       "        [1.65260986],\n",
       "        [0.0048547 ],\n",
       "        [4.80882474]])"
      ]
     },
     "execution_count": 257,
     "metadata": {},
     "output_type": "execute_result"
    }
   ],
   "source": [
    "P*b"
   ]
  },
  {
   "cell_type": "code",
   "execution_count": 258,
   "metadata": {},
   "outputs": [],
   "source": [
    "def solve(L,U,b):\n",
    "    y = forward(L,b)\n",
    "    return backward(U,y)"
   ]
  },
  {
   "cell_type": "code",
   "execution_count": 259,
   "metadata": {},
   "outputs": [
    {
     "data": {
      "text/plain": [
       "matrix([[-0.47145026],\n",
       "        [-0.90969739],\n",
       "        [ 1.08333391],\n",
       "        [ 0.24107597]])"
      ]
     },
     "execution_count": 259,
     "metadata": {},
     "output_type": "execute_result"
    }
   ],
   "source": [
    "solve(L,U,b)"
   ]
  },
  {
   "cell_type": "code",
   "execution_count": null,
   "metadata": {},
   "outputs": [],
   "source": []
  }
 ],
 "metadata": {
  "kernelspec": {
   "display_name": "Python 3",
   "language": "python",
   "name": "python3"
  },
  "language_info": {
   "codemirror_mode": {
    "name": "ipython",
    "version": 3
   },
   "file_extension": ".py",
   "mimetype": "text/x-python",
   "name": "python",
   "nbconvert_exporter": "python",
   "pygments_lexer": "ipython3",
   "version": "3.7.6"
  }
 },
 "nbformat": 4,
 "nbformat_minor": 4
}
