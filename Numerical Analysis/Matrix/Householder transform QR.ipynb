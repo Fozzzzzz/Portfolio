{
 "cells": [
  {
   "cell_type": "code",
   "execution_count": 284,
   "metadata": {},
   "outputs": [
    {
     "name": "stdout",
     "output_type": "stream",
     "text": [
      "Populating the interactive namespace from numpy and matplotlib\n"
     ]
    }
   ],
   "source": [
    "%pylab inline"
   ]
  },
  {
   "cell_type": "code",
   "execution_count": 4,
   "metadata": {},
   "outputs": [],
   "source": [
    "def H_QR(A):\n",
    "    m,n = A.shape\n",
    "    R = A.copy()\n",
    "    Q = mat(eye(m))\n",
    "    p = min(m,n)\n",
    "    for k in range(p):\n",
    "        r = norm(R[k:,k])\n",
    "        u = mat(zeros([m-k,1]))\n",
    "        u[0,0] = r\n",
    "        u = u + R[k:,k]\n",
    "        u = u/norm(u)\n",
    "        for i in range(k,n):\n",
    "            R[k:,i] = 2*u*(u.T*R[k:,i])-R[k:,i]\n",
    "        if m>p:\n",
    "            for i in range(m):\n",
    "                Q[k:,i] = 2*u*(u.T*Q[k:,i])-Q[k:,i]\n",
    "        else:\n",
    "            for i in range(p):\n",
    "                Q[k:,i] = 2*u*(u.T*Q[k:,i])-Q[k:,i]\n",
    "    return Q.T, R"
   ]
  },
  {
   "cell_type": "code",
   "execution_count": 287,
   "metadata": {},
   "outputs": [
    {
     "name": "stdout",
     "output_type": "stream",
     "text": [
      "[[-0.41829384 -0.65307481 -0.63825696  0.93567054  0.06696784]\n",
      " [-1.04068114 -2.35771223 -0.38927644  0.13967172  1.03771533]\n",
      " [-0.47712194  0.18952316  0.26719874  0.37832618  0.64374321]\n",
      " [ 1.52546843 -0.13651456 -0.26966791  0.60802513 -0.43921089]\n",
      " [ 0.16760204 -0.54394945 -1.3038913  -0.17942787  0.90293335]]\n"
     ]
    }
   ],
   "source": [
    "A = mat(randn(5,5))\n",
    "print(A)"
   ]
  },
  {
   "cell_type": "code",
   "execution_count": 288,
   "metadata": {},
   "outputs": [],
   "source": [
    "Q,R = H_QR(A)"
   ]
  },
  {
   "cell_type": "code",
   "execution_count": 13,
   "metadata": {},
   "outputs": [
    {
     "data": {
      "text/plain": [
       "matrix([[ 0.14917169, -0.9462742 , -0.21797252, -0.42178334,  1.03905385],\n",
       "        [-0.96870441, -0.72453293, -1.04357932, -1.5090027 ,  0.13484027],\n",
       "        [-0.25501447,  1.96791999,  0.80889718,  1.57542791,  0.50140057],\n",
       "        [-0.75828452,  0.34845107, -0.54136749,  1.00422456,  1.22589864],\n",
       "        [-1.19157498, -1.71143529, -0.51335693,  0.96467422,  0.50957471]])"
      ]
     },
     "execution_count": 13,
     "metadata": {},
     "output_type": "execute_result"
    }
   ],
   "source": [
    "Q*R"
   ]
  },
  {
   "cell_type": "code",
   "execution_count": 14,
   "metadata": {},
   "outputs": [
    {
     "data": {
      "text/plain": [
       "matrix([[ 1.00000000e+00,  2.12149169e-16, -8.03418046e-17,\n",
       "         -7.82568282e-17, -5.13165347e-16],\n",
       "        [ 2.12149169e-16,  1.00000000e+00,  3.48783403e-16,\n",
       "          1.93868727e-16, -8.47094087e-18],\n",
       "        [-8.03418046e-17,  3.48783403e-16,  1.00000000e+00,\n",
       "         -1.15416517e-17, -1.11376824e-16],\n",
       "        [-7.82568282e-17,  1.93868727e-16, -1.15416517e-17,\n",
       "          1.00000000e+00, -8.72352612e-18],\n",
       "        [-5.13165347e-16, -8.47094087e-18, -1.11376824e-16,\n",
       "         -8.72352612e-18,  1.00000000e+00]])"
      ]
     },
     "execution_count": 14,
     "metadata": {},
     "output_type": "execute_result"
    }
   ],
   "source": [
    "Q.T*Q"
   ]
  },
  {
   "cell_type": "code",
   "execution_count": 20,
   "metadata": {},
   "outputs": [
    {
     "data": {
      "text/plain": [
       "matrix([[ 1.73796409e+00,  1.05521816e+00,  1.03243672e+00,\n",
       "         -5.25826218e-01, -9.43784625e-01],\n",
       "        [ 2.22044605e-16,  2.68887252e+00,  8.01341593e-01,\n",
       "          1.43055049e+00,  1.69866878e-01],\n",
       "        [ 5.55111512e-17, -2.22044605e-16,  7.99640313e-01,\n",
       "          1.62411314e+00, -6.07761559e-02],\n",
       "        [ 2.22044605e-16, -5.55111512e-17,  0.00000000e+00,\n",
       "          1.38394917e+00,  8.88962662e-01],\n",
       "        [ 2.22044605e-16,  2.22044605e-16,  0.00000000e+00,\n",
       "          2.22044605e-16,  1.18244606e+00]])"
      ]
     },
     "execution_count": 20,
     "metadata": {},
     "output_type": "execute_result"
    }
   ],
   "source": [
    "R"
   ]
  },
  {
   "cell_type": "code",
   "execution_count": 23,
   "metadata": {},
   "outputs": [
    {
     "data": {
      "text/plain": [
       "matrix([[ 0.08583129, -0.38560583,  0.00301898,  0.12289068,  0.91040095],\n",
       "        [-0.55737884, -0.0507189 , -0.53458758, -0.62234977,  0.11684734],\n",
       "        [-0.14673172,  0.78945876,  0.40988711, -0.21445234,  0.37580236],\n",
       "        [-0.43630621,  0.30081356, -0.41514084,  0.73608919,  0.07056121],\n",
       "        [-0.68561542, -0.36742591,  0.611439  ,  0.09880049, -0.10635084]])"
      ]
     },
     "execution_count": 23,
     "metadata": {},
     "output_type": "execute_result"
    }
   ],
   "source": [
    "Q"
   ]
  },
  {
   "cell_type": "code",
   "execution_count": 148,
   "metadata": {},
   "outputs": [],
   "source": [
    "def H_QR(A):\n",
    "    m,n = A.shape\n",
    "    R = A.copy()\n",
    "    Q = mat(eye(m))\n",
    "    p = min(m,n)\n",
    "    for k in range(p):\n",
    "        r = norm(R[k:,k])\n",
    "        u = mat(zeros([m-k,1]))\n",
    "        u[0,0] = r\n",
    "        u = u + R[k:,k]\n",
    "        u = u/norm(u)\n",
    "        for i in range(k,n):\n",
    "            R[k:,i] = 2*u*(u.T*R[k:,i])-R[k:,i]\n",
    "        if m>p:\n",
    "            for i in range(m):\n",
    "                Q[k:,i] = 2*u*(u.T*Q[k:,i])-Q[k:,i]\n",
    "        else:\n",
    "            for i in range(p):\n",
    "                Q[k:,i] = 2*u*(u.T*Q[k:,i])-Q[k:,i]\n",
    "    return Q.T, R"
   ]
  },
  {
   "cell_type": "code",
   "execution_count": 149,
   "metadata": {},
   "outputs": [],
   "source": [
    "def H_QR1(A):\n",
    "    m,n = A.shape\n",
    "    Q = mat(eye(m))\n",
    "    for k in range(m):\n",
    "        u = mat(zeros([m-k,1]))\n",
    "        u[0,0] = norm(A[k:,k])\n",
    "        u = u + A[k:,k]\n",
    "        u = u/norm(u)\n",
    "        for i in range(k,m):\n",
    "            A[k:,i] = 2*u*(u.T*A[k:,i])-A[k:,i]\n",
    "        for i in range(m):\n",
    "            Q[k:,i] = 2*u*(u.T*Q[k:,i])-Q[k:,i]\n",
    "    return Q.T, A"
   ]
  },
  {
   "cell_type": "code",
   "execution_count": 260,
   "metadata": {},
   "outputs": [],
   "source": [
    "A = mat(randn(5,5))"
   ]
  },
  {
   "cell_type": "code",
   "execution_count": 261,
   "metadata": {},
   "outputs": [
    {
     "data": {
      "text/plain": [
       "matrix([[-1.10682555, -0.85152741, -1.45062666, -0.13426433,  0.25800645],\n",
       "        [ 0.43398428, -0.9635351 , -1.06489944, -0.6224226 , -1.52159407],\n",
       "        [-1.33925089, -0.96620176, -0.23949807,  1.39035945,  0.66373141],\n",
       "        [ 0.23240613, -0.0022443 , -0.07588255,  0.23992394,  0.11117524],\n",
       "        [ 1.39515965, -1.13152096,  0.20084736, -0.58834342, -0.52030061]])"
      ]
     },
     "execution_count": 261,
     "metadata": {},
     "output_type": "execute_result"
    }
   ],
   "source": [
    "A"
   ]
  },
  {
   "cell_type": "code",
   "execution_count": 161,
   "metadata": {},
   "outputs": [
    {
     "data": {
      "text/plain": [
       "matrix([[-0.97242844],\n",
       "        [-1.447484  ],\n",
       "        [-0.22448812],\n",
       "        [-0.31736774],\n",
       "        [-0.96136328]])"
      ]
     },
     "execution_count": 161,
     "metadata": {},
     "output_type": "execute_result"
    }
   ],
   "source": [
    "A[:,0]"
   ]
  },
  {
   "cell_type": "code",
   "execution_count": 162,
   "metadata": {},
   "outputs": [],
   "source": [
    "Q,R = H_QR(A)\n",
    "Q1,R1 = H_QR1(A)"
   ]
  },
  {
   "cell_type": "code",
   "execution_count": 163,
   "metadata": {},
   "outputs": [
    {
     "data": {
      "text/plain": [
       "matrix([[-0.47930431,  0.63587496, -0.22263879, -0.3770344 ,  0.41738165],\n",
       "        [-0.71345644,  0.07837025,  0.05830506,  0.57528295, -0.38792791],\n",
       "        [-0.11064889, -0.11869315,  0.70060632,  0.24611751,  0.64980437],\n",
       "        [-0.15642871, -0.50371684, -0.64872849,  0.26447087,  0.48063075],\n",
       "        [-0.47385036, -0.56718818,  0.18797508, -0.62958392, -0.14850203]])"
      ]
     },
     "execution_count": 163,
     "metadata": {},
     "output_type": "execute_result"
    }
   ],
   "source": [
    "Q"
   ]
  },
  {
   "cell_type": "code",
   "execution_count": 164,
   "metadata": {},
   "outputs": [
    {
     "data": {
      "text/plain": [
       "matrix([[-0.47930431,  0.63587496, -0.22263879, -0.3770344 ,  0.41738165],\n",
       "        [-0.71345644,  0.07837025,  0.05830506,  0.57528295, -0.38792791],\n",
       "        [-0.11064889, -0.11869315,  0.70060632,  0.24611751,  0.64980437],\n",
       "        [-0.15642871, -0.50371684, -0.64872849,  0.26447087,  0.48063075],\n",
       "        [-0.47385036, -0.56718818,  0.18797508, -0.62958392, -0.14850203]])"
      ]
     },
     "execution_count": 164,
     "metadata": {},
     "output_type": "execute_result"
    }
   ],
   "source": [
    "Q1"
   ]
  },
  {
   "cell_type": "code",
   "execution_count": 292,
   "metadata": {},
   "outputs": [],
   "source": [
    "b = mat(randn(5,1))"
   ]
  },
  {
   "cell_type": "code",
   "execution_count": 293,
   "metadata": {},
   "outputs": [],
   "source": [
    "x = np.linalg.solve(A,b)"
   ]
  },
  {
   "cell_type": "code",
   "execution_count": 294,
   "metadata": {},
   "outputs": [
    {
     "data": {
      "text/plain": [
       "matrix([[ 0.79440886],\n",
       "        [-1.23172582],\n",
       "        [ 0.41234992],\n",
       "        [-0.6963407 ],\n",
       "        [-1.92040688]])"
      ]
     },
     "execution_count": 294,
     "metadata": {},
     "output_type": "execute_result"
    }
   ],
   "source": [
    "x"
   ]
  },
  {
   "cell_type": "code",
   "execution_count": 439,
   "metadata": {},
   "outputs": [],
   "source": [
    "def H_QR2(A,b):\n",
    "    m,n = A.shape\n",
    "    for k in range(m):\n",
    "        u = mat(zeros([m-k,1]))\n",
    "        u[0,0] = norm(A[k:,k])\n",
    "        u = u + A[k:,k]\n",
    "        u = u/norm(u)\n",
    "        for i in range(k,m):\n",
    "            A[k:,i] = 2*u*(u.T*A[k:,i])-A[k:,i]\n",
    "        for i in range(m):\n",
    "            b[k:,0] = 2*u*(u.T*b[k:,0])-b[k:,0]\n",
    "    return b, A"
   ]
  },
  {
   "cell_type": "code",
   "execution_count": 440,
   "metadata": {},
   "outputs": [],
   "source": [
    "b2,A2 = H_QR2(A,b)"
   ]
  },
  {
   "cell_type": "code",
   "execution_count": 441,
   "metadata": {},
   "outputs": [
    {
     "data": {
      "text/plain": [
       "matrix([[ 1.89646232e+00,  1.35543012e+00,  1.21395984e+00,\n",
       "         -5.87784186e-01, -6.37030545e-01],\n",
       "        [-1.11022302e-16,  1.09664721e+00, -8.45212778e-01,\n",
       "          1.14892446e+00, -2.15973242e+00],\n",
       "        [ 3.46944695e-18,  0.00000000e+00,  2.62081523e+00,\n",
       "          1.46551287e+00,  7.06693278e-02],\n",
       "        [-2.77555756e-17,  0.00000000e+00,  0.00000000e+00,\n",
       "          8.27311142e-01, -6.07292033e-01],\n",
       "        [ 2.22044605e-16,  0.00000000e+00,  0.00000000e+00,\n",
       "          1.11022302e-16,  5.92015743e-01]])"
      ]
     },
     "execution_count": 441,
     "metadata": {},
     "output_type": "execute_result"
    }
   ],
   "source": [
    "A2"
   ]
  },
  {
   "cell_type": "code",
   "execution_count": 297,
   "metadata": {},
   "outputs": [
    {
     "data": {
      "text/plain": [
       "matrix([[ 1.90101571],\n",
       "        [-0.61551218],\n",
       "        [ 1.57356123],\n",
       "        [-0.38331354],\n",
       "        [-1.55112537]])"
      ]
     },
     "execution_count": 297,
     "metadata": {},
     "output_type": "execute_result"
    }
   ],
   "source": [
    "b2"
   ]
  },
  {
   "cell_type": "code",
   "execution_count": 298,
   "metadata": {},
   "outputs": [],
   "source": [
    "x3 = np.linalg.solve(A2,b2)"
   ]
  },
  {
   "cell_type": "code",
   "execution_count": 299,
   "metadata": {},
   "outputs": [
    {
     "data": {
      "text/plain": [
       "matrix([[ 0.79440886],\n",
       "        [-1.23172582],\n",
       "        [ 0.41234992],\n",
       "        [-0.6963407 ],\n",
       "        [-1.92040688]])"
      ]
     },
     "execution_count": 299,
     "metadata": {},
     "output_type": "execute_result"
    }
   ],
   "source": [
    "x3"
   ]
  },
  {
   "cell_type": "code",
   "execution_count": 300,
   "metadata": {},
   "outputs": [
    {
     "data": {
      "text/plain": [
       "matrix([[ 1.95978997e+00,  1.19245558e+00, -4.35248166e-02,\n",
       "          9.19506720e-02, -9.86715889e-01],\n",
       "        [ 0.00000000e+00,  2.21670918e+00,  9.84900368e-01,\n",
       "         -4.34751969e-01, -7.32139987e-01],\n",
       "        [ 0.00000000e+00,  3.37763655e-17,  1.19634169e+00,\n",
       "         -4.03745703e-02, -5.47871067e-01],\n",
       "        [ 0.00000000e+00, -3.81233227e-16,  2.77555756e-17,\n",
       "          1.11396268e+00, -2.04323375e-01],\n",
       "        [ 0.00000000e+00, -1.68881828e-17,  1.73472348e-18,\n",
       "          4.16333634e-17,  8.07706630e-01]])"
      ]
     },
     "execution_count": 300,
     "metadata": {},
     "output_type": "execute_result"
    }
   ],
   "source": [
    "A2"
   ]
  },
  {
   "cell_type": "code",
   "execution_count": 196,
   "metadata": {},
   "outputs": [],
   "source": [
    "x4 = mat(zeros([5,1]))"
   ]
  },
  {
   "cell_type": "code",
   "execution_count": 201,
   "metadata": {},
   "outputs": [
    {
     "data": {
      "text/plain": [
       "matrix([[ 0.        ],\n",
       "        [ 0.        ],\n",
       "        [ 0.08400807],\n",
       "        [ 0.85160949],\n",
       "        [-0.87873684]])"
      ]
     },
     "execution_count": 201,
     "metadata": {},
     "output_type": "execute_result"
    }
   ],
   "source": [
    "x4"
   ]
  },
  {
   "cell_type": "code",
   "execution_count": 198,
   "metadata": {},
   "outputs": [],
   "source": [
    "x4[-1,0] = b2[-1,0]/A2[-1,-1]"
   ]
  },
  {
   "cell_type": "code",
   "execution_count": 199,
   "metadata": {},
   "outputs": [],
   "source": [
    "x4[-2,0] = (b2[-2,0]-A2[-2,-1]*x4[-1,0])/A2[-2,-2]"
   ]
  },
  {
   "cell_type": "code",
   "execution_count": 200,
   "metadata": {},
   "outputs": [],
   "source": [
    "x4[-3,0] = (b2[-3,0]-A2[-3,-1]*x4[-1,0]-A2[-3,-2]*x4[-2,0])/A2[-3,-3]"
   ]
  },
  {
   "cell_type": "code",
   "execution_count": 227,
   "metadata": {},
   "outputs": [],
   "source": [
    "x5 = mat(zeros([5,1]))\n",
    "for i in range(1,6):\n",
    "    x5[-i,0] = b2[-i,0]\n",
    "    for j in range(1,i):\n",
    "        x5[-i,0] = x5[-i,0]-A2[-i,-j]*x5[-j,0]\n",
    "    x5[-i,0] = x5[-i,0]/A2[-i,-i]"
   ]
  },
  {
   "cell_type": "code",
   "execution_count": 228,
   "metadata": {},
   "outputs": [
    {
     "data": {
      "text/plain": [
       "matrix([[-0.67901289],\n",
       "        [ 0.82889155],\n",
       "        [ 0.08400807],\n",
       "        [ 0.85160949],\n",
       "        [-0.87873684]])"
      ]
     },
     "execution_count": 228,
     "metadata": {},
     "output_type": "execute_result"
    }
   ],
   "source": [
    "x5"
   ]
  },
  {
   "cell_type": "code",
   "execution_count": 229,
   "metadata": {},
   "outputs": [
    {
     "data": {
      "text/plain": [
       "matrix([[ 0.60414669],\n",
       "        [-0.26362636],\n",
       "        [-0.73834819],\n",
       "        [ 0.69394769],\n",
       "        [-1.36026063]])"
      ]
     },
     "execution_count": 229,
     "metadata": {},
     "output_type": "execute_result"
    }
   ],
   "source": [
    "A2*x5"
   ]
  },
  {
   "cell_type": "code",
   "execution_count": 230,
   "metadata": {},
   "outputs": [
    {
     "data": {
      "text/plain": [
       "matrix([[ 0.60414669],\n",
       "        [-0.26362636],\n",
       "        [-0.73834819],\n",
       "        [ 0.69394769],\n",
       "        [-1.36026063]])"
      ]
     },
     "execution_count": 230,
     "metadata": {},
     "output_type": "execute_result"
    }
   ],
   "source": [
    "b2"
   ]
  },
  {
   "cell_type": "code",
   "execution_count": 305,
   "metadata": {},
   "outputs": [],
   "source": []
  },
  {
   "cell_type": "code",
   "execution_count": 306,
   "metadata": {},
   "outputs": [
    {
     "name": "stderr",
     "output_type": "stream",
     "text": [
      "C:\\Users\\user\\anaconda3\\lib\\site-packages\\ipykernel_launcher.py:10: RuntimeWarning: invalid value encountered in true_divide\n",
      "  # Remove the CWD from sys.path while we load stuff.\n"
     ]
    }
   ],
   "source": [
    "x = H_QR2(A,b)"
   ]
  },
  {
   "cell_type": "code",
   "execution_count": 235,
   "metadata": {},
   "outputs": [
    {
     "data": {
      "text/plain": [
       "matrix([[ 0.60414669],\n",
       "        [-0.26362636],\n",
       "        [-0.73834819],\n",
       "        [ 0.69394769],\n",
       "        [-1.36026063]])"
      ]
     },
     "execution_count": 235,
     "metadata": {},
     "output_type": "execute_result"
    }
   ],
   "source": [
    "A*x"
   ]
  },
  {
   "cell_type": "code",
   "execution_count": 236,
   "metadata": {},
   "outputs": [
    {
     "data": {
      "text/plain": [
       "matrix([[ 0.60414669],\n",
       "        [-0.26362636],\n",
       "        [-0.73834819],\n",
       "        [ 0.69394769],\n",
       "        [-1.36026063]])"
      ]
     },
     "execution_count": 236,
     "metadata": {},
     "output_type": "execute_result"
    }
   ],
   "source": [
    "b"
   ]
  },
  {
   "cell_type": "code",
   "execution_count": 237,
   "metadata": {},
   "outputs": [
    {
     "data": {
      "text/plain": [
       "matrix([[-0.67901289],\n",
       "        [ 0.82889155],\n",
       "        [ 0.08400807],\n",
       "        [ 0.85160949],\n",
       "        [-0.87873684]])"
      ]
     },
     "execution_count": 237,
     "metadata": {},
     "output_type": "execute_result"
    }
   ],
   "source": [
    "x"
   ]
  },
  {
   "cell_type": "code",
   "execution_count": 453,
   "metadata": {},
   "outputs": [],
   "source": [
    "def H_QR2(A,b):\n",
    "    m,n = A.shape\n",
    "    u = mat(zeros([m,1]))\n",
    "    for k in range(m):\n",
    "        for i in range(m):\n",
    "            u[i,0] = 0\n",
    "        u[k,0] = norm(A[k:,k])\n",
    "        u[k:,0] = u[k:,0] + A[k:,k]\n",
    "        u = u/norm(u)\n",
    "        for i in range(k,m):\n",
    "            A[k:,i] = 2*u[k:,0]*(u[k:,0].T*A[k:,i])-A[k:,i]\n",
    "        for i in range(m):\n",
    "            b[k:,0] = 2*u[k:,0]*(u[k:,0].T*b[k:,0])-b[k:,0]\n",
    "    return b, A"
   ]
  },
  {
   "cell_type": "code",
   "execution_count": 443,
   "metadata": {},
   "outputs": [],
   "source": [
    "m=5\n",
    "k=3\n",
    "u = mat(zeros([m,1]))\n",
    "for i in range(m):\n",
    "    u[i,0] = 0\n",
    "u[k,0] = norm(A[k:,k])\n",
    "for i in range(k,m):\n",
    "    u[i,0] = u[i,0] + A[i,k]\n",
    "u = u/norm(u)"
   ]
  },
  {
   "cell_type": "code",
   "execution_count": 462,
   "metadata": {},
   "outputs": [],
   "source": [
    "A = mat(randn(5,5))\n",
    "b = mat(randn(5,1))"
   ]
  },
  {
   "cell_type": "code",
   "execution_count": 463,
   "metadata": {},
   "outputs": [],
   "source": [
    "b5,A5 = H_QR2(A,b)"
   ]
  },
  {
   "cell_type": "code",
   "execution_count": 464,
   "metadata": {},
   "outputs": [],
   "source": [
    "x5 = np.linalg.solve(A5,b5)"
   ]
  },
  {
   "cell_type": "code",
   "execution_count": 465,
   "metadata": {},
   "outputs": [
    {
     "data": {
      "text/plain": [
       "matrix([[ 1.24951991],\n",
       "        [ 1.32985832],\n",
       "        [ 0.76960198],\n",
       "        [-0.33386965],\n",
       "        [ 2.7553814 ]])"
      ]
     },
     "execution_count": 465,
     "metadata": {},
     "output_type": "execute_result"
    }
   ],
   "source": [
    "x5"
   ]
  },
  {
   "cell_type": "code",
   "execution_count": 466,
   "metadata": {},
   "outputs": [
    {
     "data": {
      "text/plain": [
       "matrix([[ 2.79617481e+00, -5.86442390e-01, -2.87746258e+00,\n",
       "         -1.58649003e-02,  2.59680567e-01],\n",
       "        [-6.93889390e-18,  1.28414888e+00, -1.04407124e+00,\n",
       "         -9.44386945e-01, -5.51657785e-01],\n",
       "        [-5.55111512e-17, -3.33066907e-16,  1.28317581e+00,\n",
       "          3.70398479e-01, -1.03894848e+00],\n",
       "        [-1.11022302e-16,  2.77555756e-16,  0.00000000e+00,\n",
       "          8.26228590e-01,  3.57007167e-03],\n",
       "        [-4.44089210e-16,  5.55111512e-17,  0.00000000e+00,\n",
       "         -2.22044605e-16,  4.79578133e-01]])"
      ]
     },
     "execution_count": 466,
     "metadata": {},
     "output_type": "execute_result"
    }
   ],
   "source": [
    "A5"
   ]
  },
  {
   "cell_type": "code",
   "execution_count": 467,
   "metadata": {},
   "outputs": [],
   "source": [
    "def prefect_H_QR(A,b):\n",
    "    m,n = A.shape\n",
    "    u = mat(zeros([m,1]))\n",
    "    for k in range(m):\n",
    "        for i in range(m):\n",
    "            u[i,0] = 0\n",
    "        u[k,0] = norm(A[k:,k])\n",
    "        for i in range(k,m):\n",
    "            u[i,0] = u[i,0] + A[i,k]\n",
    "        u = u/norm(u)\n",
    "        for i in range(k,m):\n",
    "            A[k:,i] = 2*u[k:,0]*(u[k:,0].T*A[k:,i])-A[k:,i]\n",
    "        for i in range(m):\n",
    "            b[k:,0] = 2*u[k:m,0]*(u[k:m,0].T*b[k:,0])-b[k:,0]\n",
    "    x = mat(zeros([m,1]))\n",
    "    for i in range(1,m+1):\n",
    "        x[-i,0] = b[-i,0]\n",
    "        for j in range(1,i):\n",
    "            x[-i,0] = x[-i,0]-A[-i,-j]*x[-j,0]\n",
    "        x[-i,0] = x[-i,0]/A[-i,-i]  \n",
    "    return x"
   ]
  },
  {
   "cell_type": "code",
   "execution_count": 468,
   "metadata": {},
   "outputs": [],
   "source": [
    "A = mat(randn(100,100)*5)\n",
    "b = mat(randn(100,1)*3)"
   ]
  },
  {
   "cell_type": "code",
   "execution_count": 469,
   "metadata": {},
   "outputs": [],
   "source": [
    "x = prefect_H_QR(A,b)"
   ]
  },
  {
   "cell_type": "code",
   "execution_count": 470,
   "metadata": {},
   "outputs": [],
   "source": [
    "y = A*x"
   ]
  },
  {
   "cell_type": "code",
   "execution_count": 471,
   "metadata": {},
   "outputs": [
    {
     "data": {
      "text/plain": [
       "matrix([[ 3.36374606],\n",
       "        [-0.16363751],\n",
       "        [ 1.54637986],\n",
       "        [-1.73115965],\n",
       "        [-0.68651102],\n",
       "        [ 1.13661408],\n",
       "        [ 4.8096067 ],\n",
       "        [-1.84325869],\n",
       "        [-2.8561249 ],\n",
       "        [ 1.74957719],\n",
       "        [ 2.53275957],\n",
       "        [-3.7596278 ],\n",
       "        [-0.35798403],\n",
       "        [-3.51034166],\n",
       "        [ 1.68610382],\n",
       "        [-0.75468628],\n",
       "        [-1.20944043],\n",
       "        [-0.94617598],\n",
       "        [-2.99773456],\n",
       "        [ 7.0515075 ],\n",
       "        [ 3.61734309],\n",
       "        [ 1.19741437],\n",
       "        [-1.66460582],\n",
       "        [-1.51812424],\n",
       "        [-3.09904383],\n",
       "        [ 5.50643479],\n",
       "        [ 3.5741598 ],\n",
       "        [ 2.52682666],\n",
       "        [ 1.39474452],\n",
       "        [-1.06380481],\n",
       "        [ 0.13835469],\n",
       "        [-1.32225983],\n",
       "        [-3.78681675],\n",
       "        [-2.92239022],\n",
       "        [-1.02856439],\n",
       "        [ 0.41704798],\n",
       "        [-0.45481734],\n",
       "        [ 5.17634928],\n",
       "        [ 2.89101536],\n",
       "        [-5.25547586],\n",
       "        [ 2.94567026],\n",
       "        [-0.25617989],\n",
       "        [-0.51910187],\n",
       "        [ 2.60596595],\n",
       "        [-0.77818951],\n",
       "        [-1.09205483],\n",
       "        [-2.79845983],\n",
       "        [ 1.25151572],\n",
       "        [-1.68043156],\n",
       "        [-1.65638965],\n",
       "        [ 0.79968416],\n",
       "        [ 1.19348366],\n",
       "        [-0.04243583],\n",
       "        [ 0.33395458],\n",
       "        [-2.10088593],\n",
       "        [ 1.25988861],\n",
       "        [ 1.40785616],\n",
       "        [-3.72503982],\n",
       "        [-0.59309313],\n",
       "        [ 0.62256856],\n",
       "        [ 1.80355336],\n",
       "        [ 1.48442581],\n",
       "        [-0.45655511],\n",
       "        [-1.44545911],\n",
       "        [-2.55523975],\n",
       "        [-4.54509305],\n",
       "        [-6.07340292],\n",
       "        [-3.31455441],\n",
       "        [-4.15244068],\n",
       "        [ 1.14730015],\n",
       "        [ 3.36101612],\n",
       "        [-0.93883385],\n",
       "        [ 3.28499256],\n",
       "        [ 0.56167072],\n",
       "        [ 0.83613872],\n",
       "        [-4.52804816],\n",
       "        [ 3.73179231],\n",
       "        [ 3.16067708],\n",
       "        [-0.65620355],\n",
       "        [ 2.05409012],\n",
       "        [ 0.2492123 ],\n",
       "        [-0.801922  ],\n",
       "        [-1.87584831],\n",
       "        [ 5.47626954],\n",
       "        [ 0.8783923 ],\n",
       "        [ 0.87796918],\n",
       "        [-0.43841935],\n",
       "        [-4.85578183],\n",
       "        [ 3.26420019],\n",
       "        [-2.33856677],\n",
       "        [-0.13253089],\n",
       "        [-1.56543616],\n",
       "        [-4.47186476],\n",
       "        [-0.41034753],\n",
       "        [ 0.88911482],\n",
       "        [ 0.64814636],\n",
       "        [ 4.46259424],\n",
       "        [-0.96989037],\n",
       "        [ 1.30487012],\n",
       "        [ 4.7011829 ]])"
      ]
     },
     "execution_count": 471,
     "metadata": {},
     "output_type": "execute_result"
    }
   ],
   "source": [
    "y"
   ]
  },
  {
   "cell_type": "code",
   "execution_count": 472,
   "metadata": {},
   "outputs": [
    {
     "data": {
      "text/plain": [
       "matrix([[ 3.36374606],\n",
       "        [-0.16363751],\n",
       "        [ 1.54637986],\n",
       "        [-1.73115965],\n",
       "        [-0.68651102],\n",
       "        [ 1.13661408],\n",
       "        [ 4.8096067 ],\n",
       "        [-1.84325869],\n",
       "        [-2.8561249 ],\n",
       "        [ 1.74957719],\n",
       "        [ 2.53275957],\n",
       "        [-3.7596278 ],\n",
       "        [-0.35798403],\n",
       "        [-3.51034166],\n",
       "        [ 1.68610382],\n",
       "        [-0.75468628],\n",
       "        [-1.20944043],\n",
       "        [-0.94617598],\n",
       "        [-2.99773456],\n",
       "        [ 7.0515075 ],\n",
       "        [ 3.61734309],\n",
       "        [ 1.19741437],\n",
       "        [-1.66460582],\n",
       "        [-1.51812424],\n",
       "        [-3.09904383],\n",
       "        [ 5.50643479],\n",
       "        [ 3.5741598 ],\n",
       "        [ 2.52682666],\n",
       "        [ 1.39474452],\n",
       "        [-1.06380481],\n",
       "        [ 0.13835469],\n",
       "        [-1.32225983],\n",
       "        [-3.78681675],\n",
       "        [-2.92239022],\n",
       "        [-1.02856439],\n",
       "        [ 0.41704798],\n",
       "        [-0.45481734],\n",
       "        [ 5.17634928],\n",
       "        [ 2.89101536],\n",
       "        [-5.25547586],\n",
       "        [ 2.94567026],\n",
       "        [-0.25617989],\n",
       "        [-0.51910187],\n",
       "        [ 2.60596595],\n",
       "        [-0.77818951],\n",
       "        [-1.09205483],\n",
       "        [-2.79845983],\n",
       "        [ 1.25151572],\n",
       "        [-1.68043156],\n",
       "        [-1.65638965],\n",
       "        [ 0.79968416],\n",
       "        [ 1.19348366],\n",
       "        [-0.04243583],\n",
       "        [ 0.33395458],\n",
       "        [-2.10088593],\n",
       "        [ 1.25988861],\n",
       "        [ 1.40785616],\n",
       "        [-3.72503982],\n",
       "        [-0.59309313],\n",
       "        [ 0.62256856],\n",
       "        [ 1.80355336],\n",
       "        [ 1.48442581],\n",
       "        [-0.45655511],\n",
       "        [-1.44545911],\n",
       "        [-2.55523975],\n",
       "        [-4.54509305],\n",
       "        [-6.07340292],\n",
       "        [-3.31455441],\n",
       "        [-4.15244068],\n",
       "        [ 1.14730015],\n",
       "        [ 3.36101612],\n",
       "        [-0.93883385],\n",
       "        [ 3.28499256],\n",
       "        [ 0.56167072],\n",
       "        [ 0.83613872],\n",
       "        [-4.52804816],\n",
       "        [ 3.73179231],\n",
       "        [ 3.16067708],\n",
       "        [-0.65620355],\n",
       "        [ 2.05409012],\n",
       "        [ 0.2492123 ],\n",
       "        [-0.801922  ],\n",
       "        [-1.87584831],\n",
       "        [ 5.47626954],\n",
       "        [ 0.8783923 ],\n",
       "        [ 0.87796918],\n",
       "        [-0.43841935],\n",
       "        [-4.85578183],\n",
       "        [ 3.26420019],\n",
       "        [-2.33856677],\n",
       "        [-0.13253089],\n",
       "        [-1.56543616],\n",
       "        [-4.47186476],\n",
       "        [-0.41034753],\n",
       "        [ 0.88911482],\n",
       "        [ 0.64814636],\n",
       "        [ 4.46259424],\n",
       "        [-0.96989037],\n",
       "        [ 1.30487012],\n",
       "        [ 4.7011829 ]])"
      ]
     },
     "execution_count": 472,
     "metadata": {},
     "output_type": "execute_result"
    }
   ],
   "source": [
    "b"
   ]
  },
  {
   "cell_type": "code",
   "execution_count": 475,
   "metadata": {},
   "outputs": [
    {
     "data": {
      "text/plain": [
       "-2.6645352591003757e-15"
      ]
     },
     "execution_count": 475,
     "metadata": {},
     "output_type": "execute_result"
    }
   ],
   "source": [
    "y[57,0]-b[57,0]"
   ]
  },
  {
   "cell_type": "code",
   "execution_count": null,
   "metadata": {},
   "outputs": [],
   "source": []
  },
  {
   "cell_type": "code",
   "execution_count": null,
   "metadata": {},
   "outputs": [],
   "source": []
  }
 ],
 "metadata": {
  "kernelspec": {
   "display_name": "Python 3",
   "language": "python",
   "name": "python3"
  },
  "language_info": {
   "codemirror_mode": {
    "name": "ipython",
    "version": 3
   },
   "file_extension": ".py",
   "mimetype": "text/x-python",
   "name": "python",
   "nbconvert_exporter": "python",
   "pygments_lexer": "ipython3",
   "version": "3.7.6"
  }
 },
 "nbformat": 4,
 "nbformat_minor": 4
}
