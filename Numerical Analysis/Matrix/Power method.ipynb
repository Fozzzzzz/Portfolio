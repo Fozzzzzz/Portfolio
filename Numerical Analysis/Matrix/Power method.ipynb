{
 "cells": [
  {
   "cell_type": "code",
   "execution_count": 1,
   "metadata": {},
   "outputs": [
    {
     "name": "stdout",
     "output_type": "stream",
     "text": [
      "Populating the interactive namespace from numpy and matplotlib\n"
     ]
    }
   ],
   "source": [
    "%pylab inline"
   ]
  },
  {
   "cell_type": "code",
   "execution_count": 2,
   "metadata": {},
   "outputs": [],
   "source": [
    "p = 6"
   ]
  },
  {
   "cell_type": "code",
   "execution_count": 6,
   "metadata": {},
   "outputs": [
    {
     "data": {
      "text/plain": [
       "matrix([[ 7.08608724, -6.08876257, -0.67700853,  1.23222858, -0.86729814,\n",
       "          0.08606823],\n",
       "        [-6.08876257, 12.26732849, -1.47926868, -1.69058624, -1.06826986,\n",
       "         -4.36849797],\n",
       "        [-0.67700853, -1.47926868,  3.02510293,  1.61072314,  2.29785842,\n",
       "         -0.04589143],\n",
       "        [ 1.23222858, -1.69058624,  1.61072314,  3.42204102,  1.24515239,\n",
       "          0.30047091],\n",
       "        [-0.86729814, -1.06826986,  2.29785842,  1.24515239,  2.42935172,\n",
       "         -0.89588315],\n",
       "        [ 0.08606823, -4.36849797, -0.04589143,  0.30047091, -0.89588315,\n",
       "          6.149042  ]])"
      ]
     },
     "execution_count": 6,
     "metadata": {},
     "output_type": "execute_result"
    }
   ],
   "source": [
    "A = mat(randn(p, p))\n",
    "A = A*A.T\n",
    "A"
   ]
  },
  {
   "cell_type": "code",
   "execution_count": 9,
   "metadata": {},
   "outputs": [],
   "source": [
    "e, g = eig(A)"
   ]
  },
  {
   "cell_type": "code",
   "execution_count": 11,
   "metadata": {},
   "outputs": [
    {
     "name": "stdout",
     "output_type": "stream",
     "text": [
      "[17.93005549  6.77166621  6.4791017   2.53272421  0.08963241  0.57577339]\n"
     ]
    }
   ],
   "source": [
    "print(e)"
   ]
  },
  {
   "cell_type": "code",
   "execution_count": 12,
   "metadata": {},
   "outputs": [
    {
     "name": "stdout",
     "output_type": "stream",
     "text": [
      "[[-0.46718728  0.36912686  0.56268559  0.20387899  0.38523492 -0.3726845 ]\n",
      " [ 0.81098129  0.08656175  0.06154907  0.36624613  0.33167938 -0.29475529]\n",
      " [-0.08040853 -0.61502343  0.02123727 -0.08465122 -0.2183657  -0.74831826]\n",
      " [-0.15254033 -0.40152576  0.16761218  0.81271644 -0.17501301  0.31028551]\n",
      " [-0.03629908 -0.55496195  0.10385604 -0.24957204  0.73563718  0.27652355]\n",
      " [-0.30494866  0.09377052 -0.80016604  0.30714341  0.34943905 -0.20372282]]\n"
     ]
    }
   ],
   "source": [
    "print(g)"
   ]
  },
  {
   "cell_type": "code",
   "execution_count": 14,
   "metadata": {},
   "outputs": [
    {
     "name": "stdout",
     "output_type": "stream",
     "text": [
      "[[-0.46718728]\n",
      " [ 0.81098129]\n",
      " [-0.08040853]\n",
      " [-0.15254033]\n",
      " [-0.03629908]\n",
      " [-0.30494866]]\n"
     ]
    }
   ],
   "source": [
    "x0 = mat(randn(p , 1))\n",
    "x0 = x0/norm(x0)\n",
    "x1 = A*x0\n",
    "x1 = x1/norm(x1)\n",
    "while norm(x1-x0) > 10**-14:\n",
    "    x0 = x1\n",
    "    x1 = A*x0\n",
    "    x1 = x1/norm(x1)\n",
    "print(x1)"
   ]
  },
  {
   "cell_type": "code",
   "execution_count": 22,
   "metadata": {},
   "outputs": [
    {
     "name": "stdout",
     "output_type": "stream",
     "text": [
      "17.930055486684502\n"
     ]
    }
   ],
   "source": [
    "eval1 = float((A*x1)[0]/x1[0])\n",
    "print(eval1)"
   ]
  },
  {
   "cell_type": "code",
   "execution_count": 27,
   "metadata": {},
   "outputs": [
    {
     "name": "stdout",
     "output_type": "stream",
     "text": [
      "[[-0.38523492]\n",
      " [-0.33167938]\n",
      " [ 0.2183657 ]\n",
      " [ 0.17501301]\n",
      " [-0.73563718]\n",
      " [-0.34943905]]\n"
     ]
    }
   ],
   "source": [
    "B = inv(A)\n",
    "x0 = mat(randn(p , 1))\n",
    "x0 = x0/norm(x0)\n",
    "x1 = B*x0\n",
    "x1 = x1/norm(x1)\n",
    "while norm(x1-x0) > 10**-14:\n",
    "    x0 = x1\n",
    "    x1 = B*x0\n",
    "    x1 = x1/norm(x1)\n",
    "print(x1)"
   ]
  },
  {
   "cell_type": "code",
   "execution_count": 30,
   "metadata": {},
   "outputs": [
    {
     "name": "stdout",
     "output_type": "stream",
     "text": [
      "0.08963241369115844\n"
     ]
    }
   ],
   "source": [
    "eval2 = float((A*x1)[0]/x1[0])\n",
    "print(eval2)"
   ]
  },
  {
   "cell_type": "code",
   "execution_count": 31,
   "metadata": {},
   "outputs": [
    {
     "name": "stdout",
     "output_type": "stream",
     "text": [
      "[[-0.56268559]\n",
      " [-0.06154907]\n",
      " [-0.02123727]\n",
      " [-0.16761218]\n",
      " [-0.10385604]\n",
      " [ 0.80016604]]\n"
     ]
    }
   ],
   "source": [
    "lamb = 5\n",
    "C = inv(A-5*mat(eye(p)))\n",
    "x0 = mat(randn(p , 1))\n",
    "x0 = x0/norm(x0)\n",
    "x1 = C*x0\n",
    "x1 = x1/norm(x1)\n",
    "while norm(x1-x0) > 10**-14:\n",
    "    x0 = x1\n",
    "    x1 = C*x0\n",
    "    x1 = x1/norm(x1)\n",
    "print(x1)"
   ]
  },
  {
   "cell_type": "code",
   "execution_count": 32,
   "metadata": {},
   "outputs": [
    {
     "name": "stdout",
     "output_type": "stream",
     "text": [
      "6.479101696888832\n"
     ]
    }
   ],
   "source": [
    "eval3 = float((A*x1)[0]/x1[0])\n",
    "print(eval3)"
   ]
  },
  {
   "cell_type": "code",
   "execution_count": null,
   "metadata": {},
   "outputs": [],
   "source": []
  }
 ],
 "metadata": {
  "kernelspec": {
   "display_name": "Python 3",
   "language": "python",
   "name": "python3"
  },
  "language_info": {
   "codemirror_mode": {
    "name": "ipython",
    "version": 3
   },
   "file_extension": ".py",
   "mimetype": "text/x-python",
   "name": "python",
   "nbconvert_exporter": "python",
   "pygments_lexer": "ipython3",
   "version": "3.7.6"
  }
 },
 "nbformat": 4,
 "nbformat_minor": 4
}
