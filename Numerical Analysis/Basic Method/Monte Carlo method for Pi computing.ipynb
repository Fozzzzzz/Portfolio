{
 "cells": [
  {
   "cell_type": "code",
   "execution_count": 1,
   "metadata": {},
   "outputs": [
    {
     "name": "stdout",
     "output_type": "stream",
     "text": [
      "Populating the interactive namespace from numpy and matplotlib\n"
     ]
    }
   ],
   "source": [
    "%pylab inline"
   ]
  },
  {
   "cell_type": "code",
   "execution_count": 9,
   "metadata": {},
   "outputs": [
    {
     "data": {
      "text/plain": [
       "array([[0.5068111 , 0.76946131],\n",
       "       [0.23961154, 0.94760351]])"
      ]
     },
     "execution_count": 9,
     "metadata": {},
     "output_type": "execute_result"
    }
   ],
   "source": [
    "rand()"
   ]
  },
  {
   "cell_type": "code",
   "execution_count": 6,
   "metadata": {},
   "outputs": [
    {
     "name": "stdout",
     "output_type": "stream",
     "text": [
      "3.1419838957615425\n"
     ]
    }
   ],
   "source": [
    "a = 5\n",
    "b = 4\n",
    "\n",
    "n = 10000000\n",
    "m = 0\n",
    "for i in range(n):\n",
    "    x = a*rand()/2\n",
    "    theta = pi*rand()\n",
    "    if x<=b*sin(theta)/2:\n",
    "        m+=1\n",
    "\n",
    "print(2*b*n/(a*m))"
   ]
  },
  {
   "cell_type": "code",
   "execution_count": null,
   "metadata": {},
   "outputs": [],
   "source": [
    "a = 5\n",
    "b = 4\n",
    "\n",
    "n = 10000000\n",
    "m = 0\n",
    "for i in range(n):\n",
    "    x = a*rand()/2\n",
    "    theta = pi*rand()\n",
    "    if x<=b*sin(theta)/2:\n",
    "        m+=1\n",
    "\n",
    "print(2*b*n/(a*m))"
   ]
  },
  {
   "cell_type": "code",
   "execution_count": 11,
   "metadata": {},
   "outputs": [
    {
     "name": "stdout",
     "output_type": "stream",
     "text": [
      "3.1409492\n"
     ]
    }
   ],
   "source": [
    "n = 10000000\n",
    "m = 0\n",
    "for i in range(n):\n",
    "    x = rand()\n",
    "    y = rand()\n",
    "    if x**2+y**2 <=1:\n",
    "        m+=1\n",
    "print(4*m/n)"
   ]
  },
  {
   "cell_type": "code",
   "execution_count": 22,
   "metadata": {},
   "outputs": [
    {
     "name": "stdout",
     "output_type": "stream",
     "text": [
      "3.14161124\n"
     ]
    }
   ],
   "source": [
    "n = 100000000\n",
    "m = 0\n",
    "for i in range(n):\n",
    "    x = (rand()-0.5)**2\n",
    "    y = (rand()-0.5)**2\n",
    "    if sqrt(x+y) <= 0.5:\n",
    "        m+=1\n",
    "print(m/(0.25*n))"
   ]
  },
  {
   "cell_type": "code",
   "execution_count": 20,
   "metadata": {},
   "outputs": [
    {
     "data": {
      "text/plain": [
       "1.7320508075688772"
      ]
     },
     "execution_count": 20,
     "metadata": {},
     "output_type": "execute_result"
    }
   ],
   "source": [
    "sqrt(3)"
   ]
  },
  {
   "cell_type": "code",
   "execution_count": null,
   "metadata": {},
   "outputs": [],
   "source": []
  }
 ],
 "metadata": {
  "kernelspec": {
   "display_name": "Python 3",
   "language": "python",
   "name": "python3"
  },
  "language_info": {
   "codemirror_mode": {
    "name": "ipython",
    "version": 3
   },
   "file_extension": ".py",
   "mimetype": "text/x-python",
   "name": "python",
   "nbconvert_exporter": "python",
   "pygments_lexer": "ipython3",
   "version": "3.7.6"
  }
 },
 "nbformat": 4,
 "nbformat_minor": 2
}
